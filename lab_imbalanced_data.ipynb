{
 "cells": [
  {
   "cell_type": "code",
   "execution_count": null,
   "id": "ffb9679d",
   "metadata": {},
   "outputs": [],
   "source": [
    "import pandas as pd"
   ]
  },
  {
   "cell_type": "code",
   "execution_count": null,
   "id": "50c32edd",
   "metadata": {
    "scrolled": true
   },
   "outputs": [],
   "source": [
    "# 1. Load the dataset and explore the variables.\n",
    "data= pd.read_csv(\"files_for_lab\\customer_churn.csv\")\n",
    "display(data.head())\n",
    "display(data.shape)\n",
    "print(\"Tenure value counts:\\n\" , data['tenure'].value_counts())\n",
    "print(\"Senior Citizen value counts:\\n\" , data['SeniorCitizen'].value_counts())\n",
    "print(\"Monthly Charges value counts:\\n\" , data['MonthlyCharges'].value_counts())\n",
    "\n",
    "data.describe()"
   ]
  },
  {
   "cell_type": "code",
   "execution_count": null,
   "id": "6926948a",
   "metadata": {},
   "outputs": [],
   "source": [
    "#2. We will try to predict variable `Churn` using a logistic regression on variables `tenure`, `SeniorCitizen`,`MonthlyCharges`.\n",
    "#3. Split the Dataset into X ('tenure', 'SeniorCitizen', 'MonthlyCharges') and y ('Churn')\n",
    "# Performing X-y split\n",
    "y = data['Churn']\n",
    "X = data.select_dtypes(include='number')\n",
    "\n",
    "# Peforming train-test-split\n",
    "from sklearn.model_selection import train_test_split\n",
    "X_train, X_test, y_train, y_test = train_test_split(X, y, test_size=0.2, random_state=17)"
   ]
  },
  {
   "cell_type": "code",
   "execution_count": null,
   "id": "71b18b10",
   "metadata": {},
   "outputs": [],
   "source": [
    "# 4. Build the logistic regression model.\n",
    "from sklearn.linear_model import LogisticRegression\n",
    "\n",
    "classification = LogisticRegression(random_state=17, solver='lbfgs',\n",
    "                  multi_class='multinomial')\n",
    "\n",
    "classification.fit(X_train, y_train)"
   ]
  },
  {
   "cell_type": "code",
   "execution_count": null,
   "id": "ed5cda2e",
   "metadata": {},
   "outputs": [],
   "source": [
    "# Making predictions on the test set\n",
    "y_test_pred = classification.predict(X_test)\n",
    "#print(y_test_pred)"
   ]
  },
  {
   "cell_type": "code",
   "execution_count": null,
   "id": "c717f192",
   "metadata": {},
   "outputs": [],
   "source": [
    "# 5. Evaluate the model.\n",
    "from sklearn.metrics import accuracy_score\n",
    "classification.score(X_test, y_test) "
   ]
  },
  {
   "cell_type": "code",
   "execution_count": null,
   "id": "16adfaf3",
   "metadata": {},
   "outputs": [],
   "source": [
    "# 6. Even a simple model will give us more than 70% accuracy. Why?\n",
    "# This could be due to the choice of variables chosen for the regression model.\n",
    "# They may contain relevant information that helps the model make accurate predictions.\n",
    "# It could also be due to the data being balanced"
   ]
  },
  {
   "cell_type": "code",
   "execution_count": null,
   "id": "bd5bf3ab",
   "metadata": {},
   "outputs": [],
   "source": [
    "#7. **Synthetic Minority Oversampling TEchnique (SMOTE)** is an over sampling technique based on nearest neighbors that adds new points between existing points. Apply `imblearn.over_sampling.SMOTE` to the dataset. Build and evaluate the logistic regression model. Is it there any improvement?\n",
    "from imblearn.over_sampling import SMOTE\n",
    "sm = SMOTE(random_state=17,k_neighbors=3)\n",
    "X_train_SMOTE,y_train_SMOTE = sm.fit_resample(X_train,y_train)"
   ]
  },
  {
   "cell_type": "code",
   "execution_count": null,
   "id": "c6641781",
   "metadata": {},
   "outputs": [],
   "source": [
    "lr = LogisticRegression(max_iter=1000)\n",
    "lr.fit(X_train_SMOTE, y_train_SMOTE)\n",
    "y_pred_test = lr.predict(X_test)\n",
    "\n",
    "print(\"The accuracy in the TEST set is: {:.2f}\".format(accuracy_score(y_test,y_pred_test)))"
   ]
  },
  {
   "cell_type": "code",
   "execution_count": null,
   "id": "f2cc5b5a",
   "metadata": {},
   "outputs": [],
   "source": [
    "#The oversampling technique has worsened the accuracy"
   ]
  }
 ],
 "metadata": {
  "kernelspec": {
   "display_name": "Python 3 (ipykernel)",
   "language": "python",
   "name": "python3"
  },
  "language_info": {
   "codemirror_mode": {
    "name": "ipython",
    "version": 3
   },
   "file_extension": ".py",
   "mimetype": "text/x-python",
   "name": "python",
   "nbconvert_exporter": "python",
   "pygments_lexer": "ipython3",
   "version": "3.11.5"
  }
 },
 "nbformat": 4,
 "nbformat_minor": 5
}
